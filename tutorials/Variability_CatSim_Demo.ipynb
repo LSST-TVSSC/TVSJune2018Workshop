{
 "cells": [
  {
   "cell_type": "markdown",
   "metadata": {},
   "source": [
    "## Setup\n",
    "\n",
    "Before opening this notebook make sure you have run:\n",
    "\n",
    "`setup lsst_sims -t sims`\n",
    "\n",
    "from the command line to get the sims packages loaded.\n",
    "\n",
    "Next we need to download some things.\n",
    "\n",
    "* First is the small 3 square degree star database cached from Fatboy."
   ]
  },
  {
   "cell_type": "code",
   "execution_count": null,
   "metadata": {},
   "outputs": [],
   "source": [
    "!wget https://dirac.astro.washington.edu/~brycek/star_cache.db"
   ]
  },
  {
   "cell_type": "markdown",
   "metadata": {},
   "source": [
    "   * Then there are two sets of CatSim support lightcurve template sets. One for the Kepler light curves and one for the mdwarf flares."
   ]
  },
  {
   "cell_type": "code",
   "execution_count": null,
   "metadata": {},
   "outputs": [],
   "source": [
    "! bash /home/docmaf/stack/stack/miniconda3-4.3.21-10a4fa6/Linux64/sims_catUtils/2.8.0.sims/support_scripts/get_kepler_light_curves.sh"
   ]
  },
  {
   "cell_type": "code",
   "execution_count": null,
   "metadata": {},
   "outputs": [],
   "source": [
    "! bash /home/docmaf/stack/stack/miniconda3-4.3.21-10a4fa6/Linux64/sims_catUtils/2.8.0.sims/support_scripts/get_mdwarf_flares.sh"
   ]
  },
  {
   "cell_type": "markdown",
   "metadata": {},
   "source": [
    "## Load modules and define classes\n",
    "\n",
    "First we will load up the sims modules we will need."
   ]
  },
  {
   "cell_type": "code",
   "execution_count": null,
   "metadata": {},
   "outputs": [],
   "source": [
    "import numpy as np\n",
    "import os\n",
    "import pandas as pd\n",
    "from lsst.utils import getPackageDir\n",
    "from lsst.sims.catalogs.db import CatalogDBObject\n",
    "from lsst.sims.utils import ObservationMetaData\n",
    "from lsst.sims.catUtils.utils import ObservationMetaDataGenerator\n",
    "from lsst.sims.catUtils.mixins import VariabilityStars, PhotometryStars, ParametrizedLightCurveMixin\n",
    "from lsst.sims.catUtils.exampleCatalogDefinitions import PhoSimCatalogPoint\n",
    "from lsst.sims.catalogs.decorators import cached, compound\n",
    "from matplotlib import pyplot as plt\n",
    "%matplotlib inline"
   ]
  },
  {
   "cell_type": "markdown",
   "metadata": {},
   "source": [
    "The class below defines a `CatalogDBObject`. These are the classes that define how to connect to a database and retrieve the relevant columns for the type of object for which you want to create simulated catalogs. There are already defined functions for Stars that connect to the UW Fatboy database, but we need to create a new one to connect to the cached database we just downloaded.\n",
    "\n",
    "The full database schema for Fatboy is available [here](https://confluence.lsstcorp.org/display/SIM/Database+Schema)."
   ]
  },
  {
   "cell_type": "code",
   "execution_count": null,
   "metadata": {},
   "outputs": [],
   "source": [
    "class StarCacheDBObj(CatalogDBObject):\n",
    "    tableid = 'star_cache_table'\n",
    "    host = None\n",
    "    port = None\n",
    "    driver = 'sqlite'\n",
    "    objectTypeId = 4\n",
    "    idColKey = 'simobjid'\n",
    "    raColName = 'ra'\n",
    "    decColName = 'decl'\n",
    "\n",
    "    columns = [('id','simobjid', int),\n",
    "               ('raJ2000', 'ra*PI()/180.'),\n",
    "               ('decJ2000', 'decl*PI()/180.'),\n",
    "               ('glon', 'gal_l*PI()/180.'),\n",
    "               ('glat', 'gal_b*PI()/180.'),\n",
    "               ('properMotionRa', '(mura/(1000.*3600.))*PI()/180.'),\n",
    "               ('properMotionDec', '(mudecl/(1000.*3600.))*PI()/180.'),\n",
    "               ('parallax', 'parallax*PI()/648000000.'),\n",
    "               ('galacticAv', 'CAST(ebv*3.1 as float)'),\n",
    "               ('radialVelocity', 'vrad'),\n",
    "               ('variabilityParameters', 'varParamStr', str, 256),\n",
    "               ('sedFilename', 'sedfilename', str, 40)]"
   ]
  },
  {
   "cell_type": "markdown",
   "metadata": {},
   "source": [
    "The second type of class we need to define is an Instance Catalog class. This will take the database queries and turn them into simulated catalogs for a given pointing and with the desired effects. There are basic catalog classes ready to go in the CatSim `sims_catUtils` repository. For example, there is `PhoSimCatalogPoint` which will define a basic instance catalog for point sources that's ready to be used as input to PhoSim for image simulations. Below we will take the basic `PhoSimCatalogPoint` class and add **mixins**. Mixins are python modules that are not meant to be in a class of their own and used in a wide range of other classes. CatSim has mixins for Photometry and Variability that we will use below."
   ]
  },
  {
   "cell_type": "code",
   "execution_count": null,
   "metadata": {},
   "outputs": [],
   "source": [
    "class testCatalogPoint(PhoSimCatalogPoint, VariabilityStars, PhotometryStars, ParametrizedLightCurveMixin):\n",
    "\n",
    "    catalog_type = 'test_catalog_POINT'\n",
    "\n",
    "    column_outputs = ['prefix', 'uniqueId', 'raPhoSim', 'decPhoSim', 'phoSimMagNorm', 'lsst_r', 'delta_lsst_r',\n",
    "                      'sedFilepath',\n",
    "                      'redshift', 'gamma1', 'gamma2', 'kappa', 'raOffset', 'decOffset',\n",
    "                      'spatialmodel', 'internalExtinctionModel',\n",
    "                      'galacticExtinctionModel', 'galacticAv', 'galacticRv', 'varParamStr']\n",
    "\n",
    "    default_columns = [('redshift', 0., float), ('gamma1', 0., float), ('gamma2', 0., float),\n",
    "                       ('kappa', 0., float), ('raOffset', 0., float), ('decOffset', 0., float),\n",
    "                       ('galacticExtinctionModel', 'CCM', (str, 3)), ('galacticRv', 3.1, float),\n",
    "                       ('internalExtinctionModel', 'none', (str, 4))]#, ('galacticAv', 0.04, float)]\n",
    "\n",
    "    default_formats = {'S': '%s', 'f': '%.9g', 'i': '%i'}\n",
    "\n",
    "    spatialModel = \"point\"\n",
    "\n",
    "    transformations = {'raPhoSim': np.degrees, 'decPhoSim': np.degrees}\n",
    "    \n",
    "    disable_proper_motion = False"
   ]
  },
  {
   "cell_type": "markdown",
   "metadata": {},
   "source": [
    "The last step is required to use the `ParametrizedLightCurveMixin`. We need to first load up the light curves that could be used when generating magnitudes for particular visits. This step only needs to be done once when starting up a script to generate catalogs. After this we can generate many catalogs in this notebook without have to load them again."
   ]
  },
  {
   "cell_type": "code",
   "execution_count": null,
   "metadata": {},
   "outputs": [],
   "source": [
    "ParametrizedLightCurveMixin().load_parametrized_light_curves()"
   ]
  },
  {
   "cell_type": "markdown",
   "metadata": {},
   "source": [
    "## Start generating catalogs!\n",
    "\n",
    "First we create an instance of `StarCacheDBObject` to open a connection to our database."
   ]
  },
  {
   "cell_type": "code",
   "execution_count": null,
   "metadata": {},
   "outputs": [],
   "source": [
    "star_db_name = 'star_cache.db'"
   ]
  },
  {
   "cell_type": "code",
   "execution_count": null,
   "metadata": {},
   "outputs": [],
   "source": [
    "star_db = StarCacheDBObj(star_db_name)"
   ]
  },
  {
   "cell_type": "markdown",
   "metadata": {},
   "source": [
    "Then we use the `ObservationMetaData` class to generate the pointing information that is similar to what comes out of `OpSim` and defines a visit. Below we generate 30 visits separated by 2 days each."
   ]
  },
  {
   "cell_type": "code",
   "execution_count": null,
   "metadata": {},
   "outputs": [],
   "source": [
    "obsMetaDataResults = []\n",
    "day_on = 0\n",
    "day_0 = 59580.+2720.\n",
    "\n",
    "for obsHistID in range(30):\n",
    "    obs = ObservationMetaData(pointingRA=53.00, pointingDec= -24.8,\n",
    "                              boundType='circle', boundLength=.1, mjd=day_0+day_on)\n",
    "    obsMetaDataResults.append(obs)\n",
    "    day_on += 2"
   ]
  },
  {
   "cell_type": "markdown",
   "metadata": {},
   "source": [
    "Finally, we step through our visit list and generate a new `testCatalogPoint` instance for each catalog we want to write. We then use our database connection and visit metadata to generate the catalog and write it out."
   ]
  },
  {
   "cell_type": "code",
   "execution_count": null,
   "metadata": {},
   "outputs": [],
   "source": [
    "mjd_list = []\n",
    "for i in range(30):\n",
    "    print(i)\n",
    "    obs_md = obsMetaDataResults[i]\n",
    "    mjd_list.append(obs_md.mjd.TAI)\n",
    "    star_cat = testCatalogPoint(star_db, obs_metadata=obsMetaDataResults[i])\n",
    "    star_cat.write_catalog('star_cat_tvs_%i.txt' % i, write_header=False)"
   ]
  },
  {
   "cell_type": "markdown",
   "metadata": {},
   "source": [
    "## What's in a catalog?\n",
    "\n",
    "Below we show some of the contents of what went into our catalogs. Here we have also written out the `varParamStr` information to see what objects there are and what variability models they use."
   ]
  },
  {
   "cell_type": "code",
   "execution_count": null,
   "metadata": {},
   "outputs": [],
   "source": [
    "!head -10 star_cat_tvs_0.txt"
   ]
  },
  {
   "cell_type": "code",
   "execution_count": null,
   "metadata": {},
   "outputs": [],
   "source": [
    "!tail -10 star_cat_tvs_0.txt"
   ]
  },
  {
   "cell_type": "markdown",
   "metadata": {},
   "source": [
    "## Using catalogs\n",
    "\n",
    "Here we load up one of our catalogs in pandas to see what's inside and actually use the data. We load up the object id, PhoSim magNorm value and the lsst r magnitude for the visit."
   ]
  },
  {
   "cell_type": "code",
   "execution_count": null,
   "metadata": {},
   "outputs": [],
   "source": [
    "cat_0 = pd.read_csv('star_cat_tvs_0.txt', delimiter=' ', usecols=(1,4,5), names=('id', 'magNorm', 'lsstr'))"
   ]
  },
  {
   "cell_type": "code",
   "execution_count": null,
   "metadata": {},
   "outputs": [],
   "source": [
    "cat_0.tail(10)"
   ]
  },
  {
   "cell_type": "markdown",
   "metadata": {},
   "source": [
    "Looking back at when we printed out the contents of our instance catalog we see that the object 7 lines up from the bottom with object id 854259716 was an RR Lyrae object. Let's step through the catalogs and query for the lsst r magnitude in each visit."
   ]
  },
  {
   "cell_type": "code",
   "execution_count": null,
   "metadata": {},
   "outputs": [],
   "source": [
    "rrly_curve = []\n",
    "for i in range(30):\n",
    "    cat_0 = pd.read_csv('star_cat_tvs_%i.txt' % i, delimiter=' ', usecols=(1,4,5), names=('id', 'magNorm', 'lsstr'))\n",
    "    rrly_curve.append(cat_0.query('id == 854259716')['lsstr'].values)"
   ]
  },
  {
   "cell_type": "markdown",
   "metadata": {},
   "source": [
    "Finally, let's plot it and see what we get."
   ]
  },
  {
   "cell_type": "code",
   "execution_count": null,
   "metadata": {},
   "outputs": [],
   "source": [
    "fig = plt.figure(figsize=(12, 9))\n",
    "plt.plot(mjd_list, rrly_curve, '--o', lw=4, ms=20)\n",
    "plt.ylabel('lsst_r', size=18)\n",
    "plt.xlabel('mjd', size=18)\n",
    "plt.title('Sample RR Lyrae lightcurve', size=24)"
   ]
  },
  {
   "cell_type": "code",
   "execution_count": null,
   "metadata": {},
   "outputs": [],
   "source": []
  },
  {
   "cell_type": "markdown",
   "metadata": {},
   "source": [
    "## Loading visits from an Opsim database\n",
    "\n",
    "First let's download a small testing database from the Twinkles project."
   ]
  },
  {
   "cell_type": "code",
   "execution_count": null,
   "metadata": {},
   "outputs": [],
   "source": [
    "!wget https://dirac.astro.washington.edu/~brycek/enigma_1189_micro.db"
   ]
  },
  {
   "cell_type": "markdown",
   "metadata": {},
   "source": [
    "Below we have a set of visits that are in the Twinkles field and we will use the `ObservationMetaDataGenerator` to create a visit list and write catalogs of those visits as before."
   ]
  },
  {
   "cell_type": "code",
   "execution_count": null,
   "metadata": {
    "scrolled": true
   },
   "outputs": [],
   "source": [
    "opsimDB = '/home/docmaf/maf_local/enigma_1189_micro.db'\n",
    "generator = ObservationMetaDataGenerator(database=opsimDB, driver='sqlite')\n",
    "obsHistIDList = [191578,\n",
    " 191613,\n",
    " 193481,\n",
    " 193512,\n",
    " 203512,\n",
    " 210625,\n",
    " 210655,\n",
    " 210723,\n",
    " 211918,\n",
    " 211938]\n",
    "obsMetaDataResults = []"
   ]
  },
  {
   "cell_type": "markdown",
   "metadata": {},
   "source": [
    "The code below uses a visit id and selects a field of view around the center of the visit to generate queries to the database for our catalogs."
   ]
  },
  {
   "cell_type": "code",
   "execution_count": null,
   "metadata": {},
   "outputs": [],
   "source": [
    "for obsHistID in obsHistIDList:\n",
    "    obsMetaDataResults.append(generator.getObservationMetaData(obsHistID=obsHistID,\n",
    "                                  fieldRA=(53, 54),\n",
    "                                  fieldDec=(-29, -27),\n",
    "                                  boundLength=0.1)[0])"
   ]
  },
  {
   "cell_type": "code",
   "execution_count": null,
   "metadata": {},
   "outputs": [],
   "source": [
    "mjd_list = []\n",
    "for i in range(10):\n",
    "    print(i)\n",
    "    obs_md = obsMetaDataResults[i]\n",
    "    mjd_list.append(obs_md.mjd.TAI)\n",
    "    star_cat = testCatalogPoint(star_db, obs_metadata=obsMetaDataResults[i])\n",
    "    star_cat.write_catalog('star_cat_tvs_%i.txt' % i, write_header=False)"
   ]
  },
  {
   "cell_type": "markdown",
   "metadata": {},
   "source": [
    "Once again we can look at the catalog and pick an object to plot. This time let's plot one of the stars with a Kepler based light curve."
   ]
  },
  {
   "cell_type": "code",
   "execution_count": null,
   "metadata": {},
   "outputs": [],
   "source": [
    "! tail -10 star_cat_tvs_0.txt"
   ]
  },
  {
   "cell_type": "code",
   "execution_count": null,
   "metadata": {},
   "outputs": [],
   "source": [
    "light_curve = []\n",
    "for i in range(10):\n",
    "    cat_0 = pd.read_csv('star_cat_tvs_%i.txt' % i, delimiter=' ', usecols=(1,4,5), names=('id', 'magNorm', 'lsstr'))\n",
    "    light_curve.append(cat_0.query('id == 470323051524')['lsstr'].values)"
   ]
  },
  {
   "cell_type": "code",
   "execution_count": null,
   "metadata": {},
   "outputs": [],
   "source": [
    "fig = plt.figure(figsize=(12, 9))\n",
    "plt.plot(mjd_list, light_curve, '--+', lw=4, ms=46, markeredgewidth=2)\n",
    "plt.ylabel('lsst_r', size=18)\n",
    "plt.xlabel('mjd', size=18)\n",
    "plt.title('Sample kepler lightcurve', size=24)"
   ]
  },
  {
   "cell_type": "code",
   "execution_count": null,
   "metadata": {},
   "outputs": [],
   "source": []
  }
 ],
 "metadata": {
  "kernelspec": {
   "display_name": "Python 3",
   "language": "python",
   "name": "python3"
  },
  "language_info": {
   "codemirror_mode": {
    "name": "ipython",
    "version": 3
   },
   "file_extension": ".py",
   "mimetype": "text/x-python",
   "name": "python",
   "nbconvert_exporter": "python",
   "pygments_lexer": "ipython3",
   "version": "3.6.2"
  }
 },
 "nbformat": 4,
 "nbformat_minor": 2
}
