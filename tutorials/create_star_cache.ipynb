{
 "cells": [
  {
   "cell_type": "markdown",
   "metadata": {},
   "source": [
    "## Creating a cached database\n",
    "\n",
    "This notebook will show you how to create a cached database from the full LSST CatSim database at UW.\n",
    "\n",
    "To do this you will have to have the LSST sims packages already setup and a connection to UW available. To set up the connection see [here](https://confluence.lsstcorp.org/display/SIM/Accessing+the+UW+CATSIM+Database)."
   ]
  },
  {
   "cell_type": "code",
   "execution_count": null,
   "metadata": {},
   "outputs": [],
   "source": [
    "import numpy as np\n",
    "import os\n",
    "from lsst.utils import getPackageDir\n",
    "from lsst.sims.utils import ObservationMetaData\n",
    "from lsst.sims.catalogs.db import fileDBObject\n",
    "from lsst.sims.catUtils.baseCatalogModels import StarObj, SNDBObj\n",
    "from desc.twinkles import create_galaxy_cache"
   ]
  },
  {
   "cell_type": "markdown",
   "metadata": {},
   "source": [
    "### Set up the center of the field you want to cache and the radius of the field."
   ]
  },
  {
   "cell_type": "code",
   "execution_count": null,
   "metadata": {},
   "outputs": [],
   "source": [
    "_obs = ObservationMetaData(pointingRA=53.0091385,\n",
    "                           pointingDec=-27.4389488,\n",
    "                           boundType='circle',\n",
    "                           boundLength=3.)"
   ]
  },
  {
   "cell_type": "markdown",
   "metadata": {},
   "source": [
    "### Specify the columns you want to grab from the database.\n",
    "\n",
    "The CatSim schema is found [here](https://confluence.lsstcorp.org/display/SIM/Database+Schema)."
   ]
  },
  {
   "cell_type": "code",
   "execution_count": null,
   "metadata": {},
   "outputs": [],
   "source": [
    "star_dtype = np.dtype([('simobjid', int),\n",
    "                        ('ra', float), ('decl', float),\n",
    "                        ('magNorm', float),\n",
    "                        ('mura', float), ('mudecl', float),\n",
    "                        ('parallax', float), ('ebv', float),\n",
    "                        ('vrad', float), ('varParamStr', '|S256'),\n",
    "                        ('sedfilename', '|S40'),\n",
    "                        ('umag', float), ('gmag', float), ('rmag', float), ('imag', float),\n",
    "                        ('zmag', float), ('ymag', float)])"
   ]
  },
  {
   "cell_type": "markdown",
   "metadata": {},
   "source": [
    "### Specify the cache database name and the location of a temporary text file that we will use to write out and read in to sqlite."
   ]
  },
  {
   "cell_type": "code",
   "execution_count": null,
   "metadata": {},
   "outputs": [],
   "source": [
    "col_names = list(star_dtype.names)\n",
    "star_cache_name = os.path.join(getPackageDir('twinkles'), 'data',\n",
    "                                   'twinkles_star_cache.txt')\n",
    "star_db_name = os.path.join(getPackageDir('twinkles'), 'data',\n",
    "                                'star_cache.db')"
   ]
  },
  {
   "cell_type": "markdown",
   "metadata": {},
   "source": [
    "### Open the database connection"
   ]
  },
  {
   "cell_type": "code",
   "execution_count": null,
   "metadata": {},
   "outputs": [],
   "source": [
    "db = StarObj(database='LSSTCATSIM',\n",
    "             host='fatboy.phys.washington.edu',\n",
    "             port=1433, driver='mssql+pymssql')"
   ]
  },
  {
   "cell_type": "markdown",
   "metadata": {},
   "source": [
    "### Run the database query and save temporarily to a text file"
   ]
  },
  {
   "cell_type": "code",
   "execution_count": null,
   "metadata": {},
   "outputs": [],
   "source": [
    "result_iterator = db.query_columns(colnames=col_names, chunk_size=100000,\n",
    "                                    obs_metadata=_obs)\n",
    "with open(star_cache_name, 'w') as output_file:\n",
    "    output_file.write('# ')\n",
    "    for name in col_names:\n",
    "        output_file.write('%s ' % name)\n",
    "    output_file.write('\\n')\n",
    "    for chunk in result_iterator:\n",
    "        for line in chunk:\n",
    "            output_file.write(('%d;%.17g;%.17g;%.17g;%.17g;%.17g;%.17g;%.17g;%.17g;%s;%s;%.17g;%.17g;%.17g;%.17g;%.17g;%.17g\\n' %\n",
    "                                  (line[1], line[2], line[3], line[4], line[5], line[6], line[7],\n",
    "                                   line[8], line[9], str(line[10]), str(line[11]),line[12],line[12],line[13],\n",
    "                                   line[14],line[15],line[16])).replace('nan','NULL'))"
   ]
  },
  {
   "cell_type": "markdown",
   "metadata": {},
   "source": [
    "### Load the objects into the database"
   ]
  },
  {
   "cell_type": "code",
   "execution_count": null,
   "metadata": {},
   "outputs": [],
   "source": [
    "if os.path.exists(star_db_name):\n",
    "    os.unlink(star_db_name)"
   ]
  },
  {
   "cell_type": "code",
   "execution_count": null,
   "metadata": {},
   "outputs": [],
   "source": [
    "dbo = fileDBObject(star_cache_name, driver='sqlite', runtable='star_cache_table',\n",
    "                    database=star_db_name, dtype=star_dtype, delimiter=';',\n",
    "                    idColKey='simobjid')"
   ]
  },
  {
   "cell_type": "code",
   "execution_count": null,
   "metadata": {},
   "outputs": [],
   "source": []
  }
 ],
 "metadata": {
  "kernelspec": {
   "display_name": "lsst",
   "language": "python",
   "name": "lsst"
  },
  "language_info": {
   "codemirror_mode": {
    "name": "ipython",
    "version": 3
   },
   "file_extension": ".py",
   "mimetype": "text/x-python",
   "name": "python",
   "nbconvert_exporter": "python",
   "pygments_lexer": "ipython3",
   "version": "3.6.2"
  }
 },
 "nbformat": 4,
 "nbformat_minor": 2
}
