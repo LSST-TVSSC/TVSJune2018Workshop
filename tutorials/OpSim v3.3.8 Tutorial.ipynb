{
 "cells": [
  {
   "cell_type": "markdown",
   "metadata": {},
   "source": [
    "                                                                                            Martin Donachie\n",
    "                                                                                            University of Auckland, NZ\n",
    "                                                                                            m.donachie@auckland.ac.nz\n",
    "                                                                                            Last updated: 7/6/2018\n",
    "\n",
    "# OpSim v3.8.8 Tutorial\n",
    "\n",
    "## Installation\n",
    "\n",
    "Complete installation instructions for OpSim v3.8.8 can be found [here](http://opsim.lsst.org/docs/master/installation.html), however the recommended install method is via Docker -- instructions for which can be found [here](https://hub.docker.com/r/lsst/opsim/). This tutorial assumes a Docker install.\n",
    "\n",
    "## Overview\n",
    "\n",
    "Start the OpSim Docker container:"
   ]
  },
  {
   "cell_type": "raw",
   "metadata": {},
   "source": [
    "docker run -it --name OpSim lsst/opsim"
   ]
  },
  {
   "cell_type": "markdown",
   "metadata": {},
   "source": [
    "The home directory contains two directories of interest, `conf` and `runs`:"
   ]
  },
  {
   "cell_type": "raw",
   "metadata": {},
   "source": [
    "[opsim@a4f97c0def25 ~]$ ls\n",
    "conf  miniconda  opsim-config  runs  startup.sh"
   ]
  },
  {
   "cell_type": "markdown",
   "metadata": {},
   "source": [
    "`runs` stores the outputs of the OpSim code, and the `conf` directory contains the configuration files used to run the scheduler:"
   ]
  },
  {
   "cell_type": "raw",
   "metadata": {},
   "source": [
    "[opsim@a4f97c0def25 conf]$ ls\n",
    "README.md  scheduler  survey  system"
   ]
  },
  {
   "cell_type": "markdown",
   "metadata": {},
   "source": [
    "The `scheduler` and `system` folders contain configurable components related to the telecope hardware and observing restrictions (moon brightness threshold, slew time bonus, etc.); `survey` contains the configuration files for the observing programs:"
   ]
  },
  {
   "cell_type": "raw",
   "metadata": {},
   "source": [
    "[opsim@a4f97c0def25 survey]$ ls\n",
    "DDcosmology.conf        LSST.conf               SouthCelestialPole.conf\n",
    "GalacticPlaneProp.conf  NorthEclipticSpur.conf  Universal.conf"
   ]
  },
  {
   "cell_type": "markdown",
   "metadata": {},
   "source": [
    "## Running OpSim"
   ]
  },
  {
   "cell_type": "markdown",
   "metadata": {},
   "source": [
    "## Configuring an OpSim run\n",
    "\n",
    "The `LSST.conf` script contains the key information for running OpSim.\n",
    "\n",
    "Importantly, it contains the required length of simulation. To edit this, open the script and change `nRun` (specified in units of one year).\n",
    "\n",
    "*Note: It takes ~30 sec to simulate 1 night of observing -- i.e. 1 year of obs ~ 3 hours, ~ 30 hours for a full ten-year survey.*\n",
    "\n",
    "`Universal.conf` contains the observing parameters for the main WFD survey.\n",
    "\n",
    "If you wish to edit any of the individual mini surveys, those can be found under their respective proposal name.\n",
    "\n",
    "*Aside: If wish to create a completely new mini survey, simply copy the configuration file for one of the existing mini surveys to use as a template, and adjust the parameters as required. This will primarily involve the number of visits, revisit time, and filter combination. The list of required fields can be specified at the bottom of the configuration file. After saving the file, add the configuration filename to the `LSST.conf` file.*\n",
    "\n",
    "For details about each of the configuration files see [here](http://opsim.lsst.org/docs/master/configuration.html).\n",
    "\n",
    "## Executing a run\n",
    "\n",
    "After adjusting the configuration files as required, change to `/home/opsim/runs/output`. Then, run:"
   ]
  },
  {
   "cell_type": "raw",
   "metadata": {},
   "source": [
    "opsim.py --track=no --config=/home/opsim/conf/survey/LSST.conf --startup_comment=\"Test run\""
   ]
  },
  {
   "cell_type": "markdown",
   "metadata": {},
   "source": [
    "This will output a log file of the form `lsst.log_1000` (default value for the first run).\n",
    "\n",
    "To process this into a sqlite database to be analysed with MAF, run:"
   ]
  },
  {
   "cell_type": "raw",
   "metadata": {},
   "source": [
    "/home/opsim/miniconda/opt/lsst/sims_operations/tools/modifySchema.sh 1000"
   ]
  },
  {
   "cell_type": "markdown",
   "metadata": {},
   "source": [
    "*(Adjusting run ID no. as appropriate)*\n",
    "\n",
    "Success! Your directory should now contain a `.db` file which can be analysed in MAF."
   ]
  },
  {
   "cell_type": "markdown",
   "metadata": {},
   "source": [
    "## Future\n",
    "\n",
    "A Docker image of OpSim v4 will be released (complete with documentation and configuration files for ~ 10 simulated cadences) to coincide with the upcoming call for proposals.\n",
    "\n",
    "A preview of this can be found on Owen Boberg's [Docker](https://hub.docker.com/r/oboberg/opsim4/) and [GitHub](https://github.com/oboberg/docker_readmes/tree/master/opsim4_docker) -- additional links be found at the end of Owen's [talk](https://github.com/LSST-TVSSC/TVSJune2018Workshop/blob/master/slides/TVS_June18_MAF_Boberg.pdf)."
   ]
  }
 ],
 "metadata": {
  "kernelspec": {
   "display_name": "Python 3",
   "language": "python",
   "name": "python3"
  },
  "language_info": {
   "codemirror_mode": {
    "name": "ipython",
    "version": 3
   },
   "file_extension": ".py",
   "mimetype": "text/x-python",
   "name": "python",
   "nbconvert_exporter": "python",
   "pygments_lexer": "ipython3",
   "version": "3.6.5"
  }
 },
 "nbformat": 4,
 "nbformat_minor": 2
}
